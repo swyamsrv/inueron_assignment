{
 "cells": [
  {
   "cell_type": "code",
   "execution_count": 5,
   "metadata": {},
   "outputs": [
    {
     "data": {
      "text/plain": [
       "array([[  1,   1,   1,   1,   1],\n",
       "       [ 16,   8,   4,   2,   1],\n",
       "       [ 81,  27,   9,   3,   1],\n",
       "       [256,  64,  16,   4,   1],\n",
       "       [625, 125,  25,   5,   1]], dtype=int32)"
      ]
     },
     "execution_count": 5,
     "metadata": {},
     "output_type": "execute_result"
    }
   ],
   "source": [
    "# Write a function so that the columns of the output matrix are powers of the input\n",
    "# vector.\n",
    "import numpy as np\n",
    "a = np.array([1, 2, 3, 4, 5])\n",
    "N = len(a)\n",
    "np.column_stack([a**(N-i-1) for i in range(N)])\n",
    "\n"
   ]
  },
  {
   "cell_type": "code",
   "execution_count": 6,
   "metadata": {},
   "outputs": [
    {
     "data": {
      "text/plain": [
       "array([[  1,   1,   1,   1,   1],\n",
       "       [ 16,   8,   4,   2,   1],\n",
       "       [ 81,  27,   9,   3,   1],\n",
       "       [256,  64,  16,   4,   1],\n",
       "       [625, 125,  25,   5,   1]])"
      ]
     },
     "execution_count": 6,
     "metadata": {},
     "output_type": "execute_result"
    }
   ],
   "source": [
    "np.vander(a, N)"
   ]
  },
  {
   "cell_type": "code",
   "execution_count": 42,
   "metadata": {},
   "outputs": [
    {
     "name": "stdout",
     "output_type": "stream",
     "text": [
      "[  5.     4.67   5.67   6.67   9.67  28.67  49.33  72.67  84.    93.33\n",
      " 116.33]\n"
     ]
    }
   ],
   "source": [
    "# Given a sequence of n values x1, x2, ..., xn and a window size k>0, the k-th moving average of\n",
    "# the given sequence is defined as follows:\n",
    "def Moving(arr, k, N):\n",
    "    Y = []\n",
    "    for i in range(N-k+1):\n",
    "        temp = [arr[x] for x in range(i, i+k)]\n",
    "        temp = sum(temp)\n",
    "        Y.append(temp/k)\n",
    "        YY = np.array(Y).round(2)\n",
    "    return YY\n",
    "\n",
    "arr = np.array([3, 5, 7, 2, 8, 10, 11, 65, 72, 81, 99, 100, 150])\n",
    "N = len(arr)\n",
    "k = 3\n",
    "\n",
    "print(Moving(arr, k, N))"
   ]
  },
  {
   "cell_type": "code",
   "execution_count": null,
   "metadata": {},
   "outputs": [],
   "source": []
  }
 ],
 "metadata": {
  "kernelspec": {
   "display_name": "base",
   "language": "python",
   "name": "python3"
  },
  "language_info": {
   "codemirror_mode": {
    "name": "ipython",
    "version": 3
   },
   "file_extension": ".py",
   "mimetype": "text/x-python",
   "name": "python",
   "nbconvert_exporter": "python",
   "pygments_lexer": "ipython3",
   "version": "3.9.12"
  },
  "orig_nbformat": 4
 },
 "nbformat": 4,
 "nbformat_minor": 2
}
